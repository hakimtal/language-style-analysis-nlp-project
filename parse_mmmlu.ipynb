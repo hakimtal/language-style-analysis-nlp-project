{
  "cells": [
    {
      "cell_type": "markdown",
      "source": [
        "#### run from main project directory"
      ],
      "metadata": {
        "id": "O1M5fu3yQ9eQ"
      }
    },
    {
      "cell_type": "code",
      "source": [
        "import csv\n",
        "import json\n",
        "import os\n",
        "import random"
      ],
      "metadata": {
        "id": "wjaOlZ9VQxCk"
      },
      "execution_count": 1,
      "outputs": []
    },
    {
      "cell_type": "code",
      "source": [
        "# Function to parse the CSV input\n",
        "def parse_csv(csv_file_path):\n",
        "    questions = []\n",
        "\n",
        "    with open(csv_file_path, mode='r', newline='', encoding='utf-8') as file:\n",
        "        reader = csv.reader(file, delimiter=',')\n",
        "        next(reader)  # Skip the header row\n",
        "\n",
        "        for row in reader:\n",
        "            question = row[0].strip()  # The question text\n",
        "            answers = {\n",
        "                \"A\": row[1].strip(),\n",
        "                \"B\": row[2].strip(),\n",
        "                \"C\": row[3].strip(),\n",
        "                \"D\": row[4].strip()\n",
        "            }\n",
        "            correct_answer = row[5].strip()  # The correct answer\n",
        "            questions.append({\n",
        "                \"question\": question,\n",
        "                \"answers\": answers,\n",
        "                \"correct_answer\": correct_answer,\n",
        "                \"subject\": os.path.basename(csv_file_path)[:-4]  # The subject of the question\n",
        "            })\n",
        "\n",
        "    return questions\n",
        "\n",
        "# Function to save parsed data to a JSON file\n",
        "def save_to_json(parsed_questions, output_file):\n",
        "    with open(output_file, mode='w', encoding='utf-8') as file:\n",
        "        json.dump(parsed_questions, file, ensure_ascii=False, indent=4)\n",
        "    print(f\"Output saved to {output_file}\")\n",
        "\n",
        "def sample_and_save(csv_file, output_file, num_samples):\n",
        "    questions = parse_csv(csv_file)\n",
        "    if num_samples > len(questions):\n",
        "        val_file = csv_file.replace(\"test\", \"val\")\n",
        "        val_questions = parse_csv(val_file)\n",
        "        questions.extend(val_questions)\n",
        "    sampled_questions = random.sample(questions, num_samples)\n",
        "    save_to_json(sampled_questions, output_file)\n"
      ],
      "metadata": {
        "id": "EjAWfm2d_Fg2"
      },
      "execution_count": 4,
      "outputs": []
    },
    {
      "cell_type": "code",
      "source": [
        "sample_and_save(\"mmmlu/data/test/miscellaneous_test.csv\", \"test/general_test.json\", 500)"
      ],
      "metadata": {
        "id": "7fkRMZeo-Vgt",
        "colab": {
          "base_uri": "https://localhost:8080/"
        },
        "outputId": "d15b1400-c721-4f61-c34b-60c59b59a4d6"
      },
      "execution_count": 5,
      "outputs": [
        {
          "output_type": "stream",
          "name": "stdout",
          "text": [
            "Output saved to test/general_test.json\n"
          ]
        }
      ]
    },
    {
      "cell_type": "code",
      "source": [
        "sample_and_save(\"mmmlu/data/test/high_school_computer_science_test.csv\", \"test/subjects_compare/cs_test.json\", 100)"
      ],
      "metadata": {
        "id": "m2o61H6-AEK1",
        "colab": {
          "base_uri": "https://localhost:8080/"
        },
        "outputId": "bbaaaf80-fea1-490f-efdb-b913ab2ed83d"
      },
      "execution_count": 6,
      "outputs": [
        {
          "output_type": "stream",
          "name": "stdout",
          "text": [
            "Output saved to test/subjects_compare/cs_test.json\n"
          ]
        }
      ]
    },
    {
      "cell_type": "code",
      "source": [
        "sample_and_save(\"mmmlu/data/test/high_school_world_history_test.csv\", \"test/subjects_compare/history_test.json\", 100)"
      ],
      "metadata": {
        "colab": {
          "base_uri": "https://localhost:8080/"
        },
        "id": "uIud_0ELLGhR",
        "outputId": "90386ef2-d9a3-4c9f-8728-0287eff39e90"
      },
      "execution_count": 7,
      "outputs": [
        {
          "output_type": "stream",
          "name": "stdout",
          "text": [
            "Output saved to test/subjects_compare/history_test.json\n"
          ]
        }
      ]
    },
    {
      "cell_type": "code",
      "source": [
        "sample_and_save(\"mmmlu/data/test/high_school_biology_test.csv\", \"test/subjects_compare/biology_test.json\", 100)"
      ],
      "metadata": {
        "colab": {
          "base_uri": "https://localhost:8080/"
        },
        "id": "10eL88UI_Jy8",
        "outputId": "6e0d3595-15dc-45e4-a948-75e1290cce02"
      },
      "execution_count": 8,
      "outputs": [
        {
          "output_type": "stream",
          "name": "stdout",
          "text": [
            "Output saved to test/subjects_compare/biology_test.json\n"
          ]
        }
      ]
    },
    {
      "cell_type": "code",
      "source": [
        "sample_and_save(\"mmmlu/data/test/high_school_mathematics_test.csv\", \"test/subjects_compare/math_test.json\", 100)"
      ],
      "metadata": {
        "colab": {
          "base_uri": "https://localhost:8080/"
        },
        "id": "rFn9GWPtO_Jr",
        "outputId": "cbc1ff51-4fac-47ea-ca21-da8c81ba07aa"
      },
      "execution_count": 9,
      "outputs": [
        {
          "output_type": "stream",
          "name": "stdout",
          "text": [
            "Output saved to test/subjects_compare/math_test.json\n"
          ]
        }
      ]
    },
    {
      "cell_type": "code",
      "source": [
        "sample_and_save(\"mmmlu/data/test/elementary_mathematics_test.csv\", \"test/difficulty_test/elementary_math_test.json\", 100)"
      ],
      "metadata": {
        "colab": {
          "base_uri": "https://localhost:8080/"
        },
        "id": "rxtM0xUuMlCw",
        "outputId": "86ed3f37-967b-4dad-adf6-ee5bd1792a7f"
      },
      "execution_count": 10,
      "outputs": [
        {
          "output_type": "stream",
          "name": "stdout",
          "text": [
            "Output saved to test/difficulty_test/elementary_math_test.json\n"
          ]
        }
      ]
    },
    {
      "cell_type": "code",
      "source": [
        "sample_and_save(\"mmmlu/data/test/high_school_mathematics_test.csv\", \"test/difficulty_test/hs_math_test.json\", 100)"
      ],
      "metadata": {
        "colab": {
          "base_uri": "https://localhost:8080/"
        },
        "id": "j9QtI9dUMYf5",
        "outputId": "1749d023-ab02-41ed-95c1-8b726ddb2e7c"
      },
      "execution_count": 11,
      "outputs": [
        {
          "output_type": "stream",
          "name": "stdout",
          "text": [
            "Output saved to test/difficulty_test/hs_math_test.json\n"
          ]
        }
      ]
    },
    {
      "cell_type": "code",
      "source": [
        "sample_and_save(\"mmmlu/data/test/college_mathematics_test.csv\", \"test/difficulty_test/college_math_test.json\", 100)"
      ],
      "metadata": {
        "colab": {
          "base_uri": "https://localhost:8080/"
        },
        "id": "DS0VWD77MaCz",
        "outputId": "fa512d22-7336-4401-e5f3-16532d02ff62"
      },
      "execution_count": 12,
      "outputs": [
        {
          "output_type": "stream",
          "name": "stdout",
          "text": [
            "Output saved to test/difficulty_test/college_math_test.json\n"
          ]
        }
      ]
    }
  ],
  "metadata": {
    "colab": {
      "provenance": []
    },
    "kernelspec": {
      "display_name": "Python 3",
      "name": "python3"
    },
    "language_info": {
      "name": "python"
    }
  },
  "nbformat": 4,
  "nbformat_minor": 0
}