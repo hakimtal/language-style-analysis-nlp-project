{
  "cells": [
    {
      "cell_type": "markdown",
      "source": [
        "#### run from main project directory"
      ],
      "metadata": {
        "id": "O1M5fu3yQ9eQ"
      }
    },
    {
      "cell_type": "code",
      "source": [
        "import csv\n",
        "import json\n",
        "import os\n",
        "import random"
      ],
      "metadata": {
        "id": "wjaOlZ9VQxCk"
      },
      "execution_count": 1,
      "outputs": []
    },
    {
      "cell_type": "code",
      "source": [
        "# Function to parse the CSV input\n",
        "def parse_csv(csv_file_path):\n",
        "    questions = []\n",
        "\n",
        "    with open(csv_file_path, mode='r', newline='', encoding='utf-8') as file:\n",
        "        reader = csv.reader(file, delimiter=',')\n",
        "        next(reader)  # Skip the header row\n",
        "\n",
        "        for row in reader:\n",
        "            question = row[0].strip()  # The question text\n",
        "            answers = {\n",
        "                \"A\": row[1].strip(),\n",
        "                \"B\": row[2].strip(),\n",
        "                \"C\": row[3].strip(),\n",
        "                \"D\": row[4].strip()\n",
        "            }\n",
        "            correct_answer = row[5].strip()  # The correct answer\n",
        "            questions.append({\n",
        "                \"question\": question,\n",
        "                \"answers\": answers,\n",
        "                \"correct_answer\": correct_answer,\n",
        "                \"subject\": os.path.basename(csv_file_path)[:-4]  # The subject of the question\n",
        "            })\n",
        "\n",
        "    return questions\n",
        "\n",
        "# Function to save parsed data to a JSON file\n",
        "def save_to_json(parsed_questions, output_file):\n",
        "    with open(output_file, mode='w', encoding='utf-8') as file:\n",
        "        json.dump(parsed_questions, file, ensure_ascii=False, indent=4)\n",
        "    print(f\"Output saved to {output_file}\")\n",
        "\n",
        "def sample_and_save(csv_file, output_file, num_samples):\n",
        "    questions = parse_csv(csv_file)\n",
        "    if num_samples > len(questions):\n",
        "        val_file = csv_file.replace(\"test\", \"val\")\n",
        "        val_questions = parse_csv(val_file)\n",
        "        questions.extend(val_questions)\n",
        "    sampled_questions = random.sample(questions, num_samples)\n",
        "    save_to_json(sampled_questions, output_file)\n"
      ],
      "metadata": {
        "id": "EjAWfm2d_Fg2"
      },
      "execution_count": 4,
      "outputs": []
    },
    {
      "cell_type": "code",
      "source": [
        "sample_and_save(\"mmmlu/data/test/miscellaneous_test.csv\", \"data/general_test.json\", 500)"
      ],
      "metadata": {
        "id": "7fkRMZeo-Vgt"
      },
      "execution_count": null,
      "outputs": []
    },
    {
      "cell_type": "code",
      "source": [
        "sample_and_save(\"mmmlu/data/test/high_school_computer_science_test.csv\", \"data/subjects_compare/cs_test.json\", 100)"
      ],
      "metadata": {
        "id": "m2o61H6-AEK1"
      },
      "execution_count": null,
      "outputs": []
    },
    {
      "cell_type": "code",
      "source": [
        "sample_and_save(\"mmmlu/data/test/high_school_world_history_test.csv\", \"data/subjects_compare/history_test.json\", 100)"
      ],
      "metadata": {
        "id": "uIud_0ELLGhR"
      },
      "execution_count": null,
      "outputs": []
    },
    {
      "cell_type": "code",
      "source": [
        "sample_and_save(\"mmmlu/data/test/high_school_biology_test.csv\", \"data/subjects_compare/biology_test.json\", 100)"
      ],
      "metadata": {
        "id": "10eL88UI_Jy8"
      },
      "execution_count": null,
      "outputs": []
    },
    {
      "cell_type": "code",
      "source": [
        "sample_and_save(\"mmmlu/data/test/high_school_mathematics_test.csv\", \"data/subjects_compare/math_test.json\", 100)"
      ],
      "metadata": {
        "id": "rFn9GWPtO_Jr"
      },
      "execution_count": null,
      "outputs": []
    },
    {
      "cell_type": "code",
      "source": [
        "sample_and_save(\"mmmlu/data/test/elementary_mathematics_test.csv\", \"data/difficulty_test/elementary_math_test.json\", 100)"
      ],
      "metadata": {
        "id": "rxtM0xUuMlCw"
      },
      "execution_count": null,
      "outputs": []
    },
    {
      "cell_type": "code",
      "source": [
        "sample_and_save(\"mmmlu/data/test/high_school_mathematics_test.csv\", \"data/difficulty_test/hs_math_test.json\", 100)"
      ],
      "metadata": {
        "id": "j9QtI9dUMYf5"
      },
      "execution_count": null,
      "outputs": []
    },
    {
      "cell_type": "code",
      "source": [
        "sample_and_save(\"mmmlu/data/test/college_mathematics_test.csv\", \"data/difficulty_test/college_math_test.json\", 100)"
      ],
      "metadata": {
        "id": "DS0VWD77MaCz"
      },
      "execution_count": null,
      "outputs": []
    }
  ],
  "metadata": {
    "colab": {
      "provenance": []
    },
    "kernelspec": {
      "display_name": "Python 3",
      "name": "python3"
    },
    "language_info": {
      "name": "python"
    }
  },
  "nbformat": 4,
  "nbformat_minor": 0
}